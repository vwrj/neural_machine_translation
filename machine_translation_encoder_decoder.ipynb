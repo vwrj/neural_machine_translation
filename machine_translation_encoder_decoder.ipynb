{
 "cells": [
  {
   "cell_type": "code",
   "execution_count": 12,
   "metadata": {},
   "outputs": [],
   "source": [
    "from __future__ import unicode_literals, print_function, division\n",
    "from io import open\n",
    "import unicodedata\n",
    "import string\n",
    "import re\n",
    "import random\n",
    "\n",
    "import torch\n",
    "import torch.nn as nn\n",
    "from torch import optim\n",
    "import torch.nn.functional as F\n",
    "import pdb\n",
    "\n",
    "from helpers import *\n",
    "device = torch.device(\"cuda\" if torch.cuda.is_available() else \"cpu\")"
   ]
  },
  {
   "cell_type": "code",
   "execution_count": 9,
   "metadata": {},
   "outputs": [],
   "source": [
    "# Turn a Unicode string to plain ASCII, thanks to\n",
    "# http://stackoverflow.com/a/518232/2809427\n",
    "def unicodeToAscii(s):\n",
    "    return ''.join(\n",
    "        c for c in unicodedata.normalize('NFD', s)\n",
    "        if unicodedata.category(c) != 'Mn'\n",
    "    )\n",
    "\n",
    "# Lowercase, trim, and remove non-letter characters\n",
    "def normalizeString(s):\n",
    "    s = unicodeToAscii(s.lower().strip())\n",
    "    s = re.sub(r\"([.!?])\", r\" \\1\", s)\n",
    "    s = re.sub(r\"[^a-zA-Z.!?]+\", r\" \", s)\n",
    "    return s"
   ]
  },
  {
   "cell_type": "code",
   "execution_count": 31,
   "metadata": {},
   "outputs": [],
   "source": [
    "def readLang(filename, lang, size):\n",
    "    print(\"Reading lines...\")\n",
    "\n",
    "    # Read the file and split into lines\n",
    "    with open(filename, encoding='utf-8') as file:\n",
    "        lines = [next(file).strip() for x in range(size)]\n",
    "        \n",
    "    print(lines[0])\n",
    "\n",
    "    # Split every line into pairs and normalize\n",
    "    pairs = [normalizeString(l) for l in lines]\n",
    "    print(pairs[0])\n",
    "\n",
    "    lang = Lang(lang)\n",
    "\n",
    "    return lang, pairs"
   ]
  },
  {
   "cell_type": "code",
   "execution_count": 50,
   "metadata": {},
   "outputs": [
    {
     "name": "stdout",
     "output_type": "stream",
     "text": [
      "Reading lines...\n",
      "Rachel Pike: The science behind a climate headline\n",
      "rachel pike the science behind a climate headline\n",
      "Read 50000 sentence pairs\n",
      "Counting words...\n",
      "rachel pike the science behind a climate headline\n",
      "Counted words:\n",
      "eng 26516\n",
      "Reading lines...\n",
      "Khoa học đằng sau một tiêu đề về khí hậu\n",
      "khoa hoc ang sau mot tieu e ve khi hau\n",
      "Read 50000 sentence pairs\n",
      "Counting words...\n",
      "khoa hoc ang sau mot tieu e ve khi hau\n",
      "Counted words:\n",
      "vi 7521\n"
     ]
    }
   ],
   "source": [
    "SOS_token = 0\n",
    "EOS_token = 1\n",
    "\n",
    "def prepareData(filename, lang, size):\n",
    "    lang, pairs = readLang(filename, lang, size)\n",
    "    print(\"Read %s sentence pairs\" % len(pairs))\n",
    "    print(\"Counting words...\")\n",
    "    print(pairs[0])\n",
    "    for pair in pairs:\n",
    "        lang.addSentence(pair)\n",
    "    print(\"Counted words:\")\n",
    "    print(lang.name, lang.n_words)\n",
    "    return lang, pairs\n",
    "\n",
    "eng_lang, eng_sents = prepareData('iwslt-vi-en-processed/train.en', 'eng', size=50000)\n",
    "vi_lang, vi_sents = prepareData('iwslt-vi-en-processed/train.vi', 'vi', size=50000)"
   ]
  },
  {
   "cell_type": "code",
   "execution_count": 53,
   "metadata": {},
   "outputs": [
    {
     "name": "stdout",
     "output_type": "stream",
     "text": [
      "people like josh and steve are continuing to layer information upon information real time information tweet it and text it onto these maps for all to use .\n",
      "ao thuat gia choi ua voi lua va thep bat chap con thinh no cua luoi cua dam tay khong bat an hoac thu tron thoat trong uong to ke toc .\n"
     ]
    }
   ],
   "source": [
    "print(random.choice(eng_sents))\n",
    "print(random.choice(vi_sents))"
   ]
  },
  {
   "cell_type": "markdown",
   "metadata": {},
   "source": [
    "### The Encoder"
   ]
  },
  {
   "cell_type": "code",
   "execution_count": 12,
   "metadata": {},
   "outputs": [],
   "source": [
    "class EncoderRNN(nn.Module):\n",
    "    def __init__(self, input_size, hidden_size):\n",
    "        super(EncoderRNN, self).__init__()\n",
    "        self.hidden_size = hidden_size\n",
    "\n",
    "        self.embedding = nn.Embedding(input_size, hidden_size)\n",
    "        self.gru = nn.GRU(hidden_size, hidden_size)\n",
    "\n",
    "    def forward(self, input, hidden):\n",
    "        embedded = self.embedding(input).view(1, 1, -1)\n",
    "        output, hidden = self.gru(embedded, hidden)\n",
    "        # output and hidden are the same vectors\n",
    "        return output, hidden\n",
    "\n",
    "    def initHidden(self):\n",
    "        return torch.zeros(1, 1, self.hidden_size, device=device)"
   ]
  },
  {
   "cell_type": "markdown",
   "metadata": {},
   "source": [
    "### The Decoder"
   ]
  },
  {
   "cell_type": "code",
   "execution_count": 13,
   "metadata": {},
   "outputs": [],
   "source": [
    "class DecoderRNN(nn.Module):\n",
    "    def __init__(self, output_size, hidden_size):\n",
    "        super(DecoderRNN, self).__init__()\n",
    "        self.hidden_size = hidden_size\n",
    "\n",
    "        self.embedding = nn.Embedding(output_size, hidden_size)\n",
    "        self.gru = nn.GRU(hidden_size, hidden_size)\n",
    "        self.out = nn.Linear(hidden_size, output_size)\n",
    "        self.softmax = nn.LogSoftmax(dim=1)\n",
    "\n",
    "    def forward(self, input, hidden):\n",
    "        output = self.embedding(input).view(1, 1, -1)\n",
    "        output = F.relu(output)\n",
    "        output, hidden = self.gru(output, hidden)\n",
    "        output = self.softmax(self.out(output[0]))\n",
    "        return output, hidden\n",
    "\n",
    "    def initHidden(self):\n",
    "        return torch.zeros(1, 1, self.hidden_size, device=device)"
   ]
  },
  {
   "cell_type": "markdown",
   "metadata": {},
   "source": [
    "### Training\n",
    "#### Preparing Training Data"
   ]
  },
  {
   "cell_type": "code",
   "execution_count": 14,
   "metadata": {},
   "outputs": [],
   "source": [
    "def indexesFromSentence(lang, sentence):\n",
    "    return [lang.word2index[word] for word in sentence.split(' ')]\n",
    "\n",
    "\n",
    "def tensorFromSentence(lang, sentence):\n",
    "    indexes = indexesFromSentence(lang, sentence)\n",
    "    indexes.append(EOS_token)\n",
    "    return torch.tensor(indexes, dtype=torch.long, device=device).view(-1, 1)\n",
    "\n",
    "\n",
    "def tensorsFromPair(pair):\n",
    "    input_tensor = tensorFromSentence(input_lang, pair[0])\n",
    "    target_tensor = tensorFromSentence(output_lang, pair[1])\n",
    "    return (input_tensor, target_tensor)"
   ]
  },
  {
   "cell_type": "markdown",
   "metadata": {},
   "source": [
    "### Training the Model"
   ]
  },
  {
   "cell_type": "code",
   "execution_count": 22,
   "metadata": {},
   "outputs": [],
   "source": [
    "teacher_forcing_ratio = 0.5\n",
    "\n",
    "\n",
    "# example of input_tensor: [2, 43, 23, 9, 19, 4]. Indexed on our vocabulary. \n",
    "def train(input_tensor, target_tensor, encoder, decoder, encoder_optimizer, decoder_optimizer, criterion, max_length=MAX_LENGTH):\n",
    "    encoder_hidden = encoder.initHidden()\n",
    "\n",
    "    encoder_optimizer.zero_grad()\n",
    "    decoder_optimizer.zero_grad()\n",
    "\n",
    "    input_length = input_tensor.size(0)\n",
    "    target_length = target_tensor.size(0)\n",
    "\n",
    "    encoder_outputs = torch.zeros(max_length, encoder.hidden_size, device=device)\n",
    "\n",
    "    loss = 0\n",
    "\n",
    "    # iterate GRU over words --> final hidden state is representation of source sentence. \n",
    "    for ei in range(input_length):\n",
    "        encoder_output, encoder_hidden = encoder(\n",
    "            input_tensor[ei], encoder_hidden)\n",
    "        encoder_outputs[ei] = encoder_output[0, 0]\n",
    "\n",
    "    decoder_input = torch.tensor([[SOS_token]], device=device)\n",
    "\n",
    "    decoder_hidden = encoder_hidden\n",
    "\n",
    "    use_teacher_forcing = True if random.random() < teacher_forcing_ratio else False\n",
    "\n",
    "    if use_teacher_forcing:\n",
    "        # Teacher forcing: Feed the target as the next input\n",
    "        for di in range(target_length):\n",
    "            decoder_output, decoder_hidden = decoder(decoder_input, decoder_hidden)\n",
    "            loss += criterion(decoder_output, target_tensor[di])\n",
    "            decoder_input = target_tensor[di]  # Teacher forcing\n",
    "\n",
    "    else:\n",
    "        # Without teacher forcing: use its own predictions as the next input\n",
    "        for di in range(target_length):\n",
    "            decoder_output, decoder_hidden = decoder(decoder_input, decoder_hidden)\n",
    "            topv, topi = decoder_output.topk(1)\n",
    "            decoder_input = topi.squeeze().detach()  # detach from history as input\n",
    "\n",
    "            loss += criterion(decoder_output, target_tensor[di])\n",
    "            if decoder_input.item() == EOS_token:\n",
    "                break\n",
    "\n",
    "    loss.backward()\n",
    "\n",
    "    encoder_optimizer.step()\n",
    "    decoder_optimizer.step()\n",
    "\n",
    "    return loss.item() / target_length"
   ]
  },
  {
   "cell_type": "code",
   "execution_count": 16,
   "metadata": {},
   "outputs": [],
   "source": [
    "import time\n",
    "import math\n",
    "\n",
    "\n",
    "def asMinutes(s):\n",
    "    m = math.floor(s / 60)\n",
    "    s -= m * 60\n",
    "    return '%dm %ds' % (m, s)\n",
    "\n",
    "\n",
    "def timeSince(since, percent):\n",
    "    now = time.time()\n",
    "    s = now - since\n",
    "    es = s / (percent)\n",
    "    rs = es - s\n",
    "    return '%s (- %s)' % (asMinutes(s), asMinutes(rs))"
   ]
  },
  {
   "cell_type": "markdown",
   "metadata": {},
   "source": [
    "The whole training process looks like this:\n",
    "\n",
    "-  Start a timer\n",
    "-  Initialize optimizers and criterion\n",
    "-  Create set of training pairs\n",
    "-  Start empty losses array for plotting"
   ]
  },
  {
   "cell_type": "code",
   "execution_count": 17,
   "metadata": {},
   "outputs": [],
   "source": [
    "def trainIters(encoder, decoder, n_iters, print_every=1000, plot_every=100, learning_rate=0.01):\n",
    "    start = time.time()\n",
    "    plot_losses = []\n",
    "    print_loss_total = 0  # Reset every print_every\n",
    "    plot_loss_total = 0  # Reset every plot_every\n",
    "\n",
    "    encoder_optimizer = optim.SGD(encoder.parameters(), lr=learning_rate)\n",
    "    decoder_optimizer = optim.SGD(decoder.parameters(), lr=learning_rate)\n",
    "    training_pairs = [tensorsFromPair(random.choice(pairs))\n",
    "                      for i in range(n_iters)]\n",
    "    criterion = nn.NLLLoss()\n",
    "\n",
    "    for iter in range(1, n_iters + 1):\n",
    "        training_pair = training_pairs[iter - 1]\n",
    "        input_tensor = training_pair[0]\n",
    "        target_tensor = training_pair[1]\n",
    "\n",
    "        loss = train(input_tensor, target_tensor, encoder,\n",
    "                     decoder, encoder_optimizer, decoder_optimizer, criterion)\n",
    "        print_loss_total += loss\n",
    "        plot_loss_total += loss\n",
    "\n",
    "        if iter % print_every == 0:\n",
    "            print_loss_avg = print_loss_total / print_every\n",
    "            print_loss_total = 0\n",
    "            print('%s (%d %d%%) %.4f' % (timeSince(start, iter / n_iters),\n",
    "                                         iter, iter / n_iters * 100, print_loss_avg))\n",
    "\n",
    "        if iter % plot_every == 0:\n",
    "            plot_loss_avg = plot_loss_total / plot_every\n",
    "            plot_losses.append(plot_loss_avg)\n",
    "            plot_loss_total = 0\n",
    "\n",
    "    showPlot(plot_losses)"
   ]
  },
  {
   "cell_type": "code",
   "execution_count": 18,
   "metadata": {},
   "outputs": [],
   "source": [
    "import matplotlib.pyplot as plt\n",
    "plt.switch_backend('agg')\n",
    "import matplotlib.ticker as ticker\n",
    "import numpy as np\n",
    "%matplotlib inline\n",
    "\n",
    "def showPlot(points):\n",
    "    plt.figure()\n",
    "    fig, ax = plt.subplots()\n",
    "    # this locator puts ticks at regular intervals\n",
    "    loc = ticker.MultipleLocator(base=0.2)\n",
    "    ax.yaxis.set_major_locator(loc)\n",
    "    plt.plot(points)"
   ]
  },
  {
   "cell_type": "code",
   "execution_count": 25,
   "metadata": {},
   "outputs": [
    {
     "name": "stdout",
     "output_type": "stream",
     "text": [
      "0m 4s (- 7m 29s) (100 1%) 4.2950\n",
      "0m 8s (- 7m 11s) (200 2%) 3.5779\n",
      "0m 13s (- 7m 9s) (300 3%) 3.5048\n",
      "0m 18s (- 7m 14s) (400 4%) 3.5253\n",
      "0m 22s (- 7m 2s) (500 5%) 3.3844\n",
      "0m 26s (- 6m 56s) (600 6%) 3.4836\n",
      "0m 30s (- 6m 48s) (700 7%) 3.3021\n",
      "0m 35s (- 6m 44s) (800 8%) 3.4473\n",
      "0m 39s (- 6m 39s) (900 9%) 3.2549\n",
      "0m 43s (- 6m 31s) (1000 10%) 3.3959\n",
      "0m 47s (- 6m 25s) (1100 11%) 3.2188\n",
      "0m 51s (- 6m 20s) (1200 12%) 3.2056\n",
      "0m 56s (- 6m 14s) (1300 13%) 3.1289\n",
      "1m 0s (- 6m 10s) (1400 14%) 3.1543\n",
      "1m 4s (- 6m 6s) (1500 15%) 3.2194\n",
      "1m 9s (- 6m 2s) (1600 16%) 3.2385\n",
      "1m 13s (- 5m 58s) (1700 17%) 3.0890\n",
      "1m 17s (- 5m 54s) (1800 18%) 2.9515\n",
      "1m 22s (- 5m 50s) (1900 19%) 2.9906\n",
      "1m 26s (- 5m 45s) (2000 20%) 2.8720\n",
      "1m 30s (- 5m 40s) (2100 21%) 2.8863\n",
      "1m 34s (- 5m 36s) (2200 22%) 2.9280\n",
      "1m 39s (- 5m 31s) (2300 23%) 2.6736\n",
      "1m 43s (- 5m 26s) (2400 24%) 2.8789\n",
      "1m 47s (- 5m 23s) (2500 25%) 2.9839\n",
      "1m 52s (- 5m 19s) (2600 26%) 2.6225\n",
      "1m 57s (- 5m 16s) (2700 27%) 2.8273\n",
      "2m 1s (- 5m 12s) (2800 28%) 2.8808\n",
      "2m 6s (- 5m 10s) (2900 28%) 2.7986\n",
      "2m 12s (- 5m 9s) (3000 30%) 2.7763\n",
      "2m 18s (- 5m 7s) (3100 31%) 2.9593\n",
      "2m 22s (- 5m 3s) (3200 32%) 2.6432\n",
      "2m 28s (- 5m 0s) (3300 33%) 2.7993\n",
      "2m 33s (- 4m 57s) (3400 34%) 2.8355\n",
      "2m 38s (- 4m 53s) (3500 35%) 2.7263\n",
      "2m 42s (- 4m 49s) (3600 36%) 2.7285\n",
      "2m 47s (- 4m 44s) (3700 37%) 2.7148\n",
      "2m 51s (- 4m 40s) (3800 38%) 2.9440\n",
      "2m 56s (- 4m 36s) (3900 39%) 2.6994\n",
      "3m 1s (- 4m 32s) (4000 40%) 2.6289\n",
      "3m 7s (- 4m 29s) (4100 41%) 2.5810\n",
      "3m 12s (- 4m 25s) (4200 42%) 2.5788\n",
      "3m 16s (- 4m 20s) (4300 43%) 2.6880\n",
      "3m 22s (- 4m 17s) (4400 44%) 2.7381\n",
      "3m 26s (- 4m 12s) (4500 45%) 2.6119\n",
      "3m 31s (- 4m 8s) (4600 46%) 2.6706\n",
      "3m 36s (- 4m 4s) (4700 47%) 2.6478\n",
      "3m 41s (- 4m 0s) (4800 48%) 2.7334\n",
      "3m 46s (- 3m 55s) (4900 49%) 2.6913\n",
      "3m 51s (- 3m 51s) (5000 50%) 2.5223\n",
      "3m 56s (- 3m 46s) (5100 51%) 2.5735\n",
      "4m 1s (- 3m 42s) (5200 52%) 2.5563\n",
      "4m 6s (- 3m 38s) (5300 53%) 2.6022\n",
      "4m 11s (- 3m 34s) (5400 54%) 2.5586\n",
      "4m 16s (- 3m 29s) (5500 55%) 2.5020\n",
      "4m 21s (- 3m 25s) (5600 56%) 2.5235\n",
      "4m 27s (- 3m 21s) (5700 56%) 2.5859\n",
      "4m 32s (- 3m 17s) (5800 57%) 2.4117\n",
      "4m 38s (- 3m 13s) (5900 59%) 2.4546\n",
      "4m 43s (- 3m 8s) (6000 60%) 2.5232\n",
      "4m 48s (- 3m 4s) (6100 61%) 2.5274\n",
      "4m 52s (- 2m 59s) (6200 62%) 2.5794\n",
      "4m 58s (- 2m 55s) (6300 63%) 2.3598\n",
      "5m 3s (- 2m 50s) (6400 64%) 2.4645\n",
      "5m 8s (- 2m 45s) (6500 65%) 2.4346\n",
      "5m 12s (- 2m 41s) (6600 66%) 2.4762\n",
      "5m 17s (- 2m 36s) (6700 67%) 2.4921\n",
      "5m 22s (- 2m 31s) (6800 68%) 2.5034\n",
      "5m 27s (- 2m 27s) (6900 69%) 2.4824\n",
      "5m 32s (- 2m 22s) (7000 70%) 2.3724\n",
      "5m 36s (- 2m 17s) (7100 71%) 2.4743\n",
      "5m 42s (- 2m 13s) (7200 72%) 2.4330\n",
      "5m 47s (- 2m 8s) (7300 73%) 2.4042\n",
      "5m 52s (- 2m 3s) (7400 74%) 2.2592\n",
      "5m 57s (- 1m 59s) (7500 75%) 2.2882\n",
      "6m 1s (- 1m 54s) (7600 76%) 2.3044\n",
      "6m 6s (- 1m 49s) (7700 77%) 2.2945\n",
      "6m 11s (- 1m 44s) (7800 78%) 2.2809\n",
      "6m 16s (- 1m 39s) (7900 79%) 2.5804\n",
      "6m 20s (- 1m 35s) (8000 80%) 2.4667\n",
      "6m 26s (- 1m 30s) (8100 81%) 2.2705\n",
      "6m 31s (- 1m 25s) (8200 82%) 2.3793\n",
      "6m 36s (- 1m 21s) (8300 83%) 2.4028\n",
      "6m 42s (- 1m 16s) (8400 84%) 2.3016\n",
      "6m 47s (- 1m 11s) (8500 85%) 2.3588\n",
      "6m 53s (- 1m 7s) (8600 86%) 2.2644\n",
      "6m 58s (- 1m 2s) (8700 87%) 2.3026\n",
      "7m 4s (- 0m 57s) (8800 88%) 2.3398\n",
      "7m 8s (- 0m 53s) (8900 89%) 2.2742\n",
      "7m 14s (- 0m 48s) (9000 90%) 2.2112\n",
      "7m 19s (- 0m 43s) (9100 91%) 2.2863\n",
      "7m 25s (- 0m 38s) (9200 92%) 2.2643\n",
      "7m 30s (- 0m 33s) (9300 93%) 2.1947\n",
      "7m 35s (- 0m 29s) (9400 94%) 2.1478\n",
      "7m 40s (- 0m 24s) (9500 95%) 2.0698\n",
      "7m 45s (- 0m 19s) (9600 96%) 2.2103\n",
      "7m 49s (- 0m 14s) (9700 97%) 2.1217\n",
      "7m 54s (- 0m 9s) (9800 98%) 2.2490\n",
      "7m 59s (- 0m 4s) (9900 99%) 2.2698\n",
      "8m 5s (- 0m 0s) (10000 100%) 2.1745\n"
     ]
    },
    {
     "data": {
      "text/plain": [
       "<Figure size 432x288 with 0 Axes>"
      ]
     },
     "metadata": {},
     "output_type": "display_data"
    },
    {
     "data": {
      "image/png": "[encoded data removed]",
      "text/plain": [
       "<Figure size 432x288 with 1 Axes>"
      ]
     },
     "metadata": {
      "needs_background": "light"
     },
     "output_type": "display_data"
    }
   ],
   "source": [
    "hidden_size = 256\n",
    "encoder1 = EncoderRNN(input_lang.n_words, hidden_size).to(device)\n",
    "decoder1 = DecoderRNN(output_lang.n_words, hidden_size).to(device)\n",
    "\n",
    "num_iters = 10000\n",
    "trainIters(encoder1, decoder1, num_iters, print_every=100)"
   ]
  }
 ],
 "metadata": {
  "kernelspec": {
   "display_name": "Python 3",
   "language": "python",
   "name": "python3"
  },
  "language_info": {
   "codemirror_mode": {
    "name": "ipython",
    "version": 3
   },
   "file_extension": ".py",
   "mimetype": "text/x-python",
   "name": "python",
   "nbconvert_exporter": "python",
   "pygments_lexer": "ipython3",
   "version": "3.6.6"
  }
 },
 "nbformat": 4,
 "nbformat_minor": 2
}
